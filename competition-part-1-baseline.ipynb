{
 "cells": [
  {
   "cell_type": "code",
   "execution_count": 1,
   "id": "0fc2cc15",
   "metadata": {
    "_cell_guid": "b1076dfc-b9ad-4769-8c92-a6c4dae69d19",
    "_uuid": "8f2839f25d086af736a60e9eeb907d3b93b6e0e5",
    "execution": {
     "iopub.execute_input": "2021-08-18T17:06:08.557863Z",
     "iopub.status.busy": "2021-08-18T17:06:08.556758Z",
     "iopub.status.idle": "2021-08-18T17:06:09.877982Z",
     "shell.execute_reply": "2021-08-18T17:06:09.877223Z",
     "shell.execute_reply.started": "2021-08-16T21:10:41.019819Z"
    },
    "papermill": {
     "duration": 1.331399,
     "end_time": "2021-08-18T17:06:09.878169",
     "exception": false,
     "start_time": "2021-08-18T17:06:08.546770",
     "status": "completed"
    },
    "tags": []
   },
   "outputs": [],
   "source": [
    "import pandas as pd\n",
    "import numpy as np\n",
    "from sklearn.preprocessing import OrdinalEncoder\n",
    "from sklearn.model_selection import train_test_split\n",
    "from sklearn.ensemble import RandomForestRegressor\n",
    "from sklearn.metrics import mean_squared_error\n",
    "from xgboost import XGBRegressor"
   ]
  },
  {
   "cell_type": "code",
   "execution_count": 2,
   "id": "30a239e4",
   "metadata": {
    "execution": {
     "iopub.execute_input": "2021-08-18T17:06:09.891950Z",
     "iopub.status.busy": "2021-08-18T17:06:09.891353Z",
     "iopub.status.idle": "2021-08-18T17:06:14.056273Z",
     "shell.execute_reply": "2021-08-18T17:06:14.055701Z",
     "shell.execute_reply.started": "2021-08-16T21:04:02.044184Z"
    },
    "papermill": {
     "duration": 4.172308,
     "end_time": "2021-08-18T17:06:14.056438",
     "exception": false,
     "start_time": "2021-08-18T17:06:09.884130",
     "status": "completed"
    },
    "tags": []
   },
   "outputs": [],
   "source": [
    "df = pd.read_csv(\"../input/30days-folds/train_folds.csv\")\n",
    "df_test = pd.read_csv(\"../input/30-days-of-ml/test.csv\")\n",
    "sample_submission = pd.read_csv(\"../input/30-days-of-ml/sample_submission.csv\")"
   ]
  },
  {
   "cell_type": "code",
   "execution_count": 3,
   "id": "2482a5a3",
   "metadata": {
    "execution": {
     "iopub.execute_input": "2021-08-18T17:06:14.082543Z",
     "iopub.status.busy": "2021-08-18T17:06:14.081464Z",
     "iopub.status.idle": "2021-08-18T17:06:14.117175Z",
     "shell.execute_reply": "2021-08-18T17:06:14.116473Z",
     "shell.execute_reply.started": "2021-08-16T21:04:04.438836Z"
    },
    "papermill": {
     "duration": 0.055699,
     "end_time": "2021-08-18T17:06:14.117352",
     "exception": false,
     "start_time": "2021-08-18T17:06:14.061653",
     "status": "completed"
    },
    "tags": []
   },
   "outputs": [],
   "source": [
    "useful_features = [c for c in df.columns if c not in (\"id\", \"target\", \"kfold\")]\n",
    "object_cols = [col for col in useful_features if 'cat' in col]\n",
    "df_test = df_test[useful_features]"
   ]
  },
  {
   "cell_type": "code",
   "execution_count": 4,
   "id": "fc54818f",
   "metadata": {
    "execution": {
     "iopub.execute_input": "2021-08-18T17:06:14.139686Z",
     "iopub.status.busy": "2021-08-18T17:06:14.139027Z",
     "iopub.status.idle": "2021-08-18T17:10:46.357461Z",
     "shell.execute_reply": "2021-08-18T17:10:46.357923Z",
     "shell.execute_reply.started": "2021-08-16T21:04:08.405592Z"
    },
    "papermill": {
     "duration": 272.235216,
     "end_time": "2021-08-18T17:10:46.358130",
     "exception": false,
     "start_time": "2021-08-18T17:06:14.122914",
     "status": "completed"
    },
    "tags": []
   },
   "outputs": [
    {
     "name": "stdout",
     "output_type": "stream",
     "text": [
      "0 0.7242812912900478\n",
      "1 0.7232810321072864\n",
      "2 0.725452249623988\n",
      "3 0.725286377838993\n",
      "4 0.7242629367174095\n"
     ]
    }
   ],
   "source": [
    "final_predictions = []\n",
    "for fold in range(5):\n",
    "    xtrain =  df[df.kfold != fold].reset_index(drop=True)\n",
    "    xvalid = df[df.kfold == fold].reset_index(drop=True)\n",
    "    xtest = df_test.copy()\n",
    "\n",
    "    ytrain = xtrain.target\n",
    "    yvalid = xvalid.target\n",
    "    \n",
    "    xtrain = xtrain[useful_features]\n",
    "    xvalid = xvalid[useful_features]\n",
    "    \n",
    "    ordinal_encoder = OrdinalEncoder()\n",
    "    xtrain[object_cols] = ordinal_encoder.fit_transform(xtrain[object_cols])\n",
    "    xvalid[object_cols] = ordinal_encoder.transform(xvalid[object_cols])\n",
    "    xtest[object_cols] = ordinal_encoder.transform(xtest[object_cols])\n",
    "    \n",
    "    model = XGBRegressor(random_state=fold, n_jobs=4)\n",
    "    model.fit(xtrain, ytrain)\n",
    "    preds_valid = model.predict(xvalid)\n",
    "    test_preds = model.predict(xtest)\n",
    "    final_predictions.append(test_preds)\n",
    "    print(fold, mean_squared_error(yvalid, preds_valid, squared=False))"
   ]
  },
  {
   "cell_type": "code",
   "execution_count": 5,
   "id": "8c757dcb",
   "metadata": {
    "execution": {
     "iopub.execute_input": "2021-08-18T17:10:46.373162Z",
     "iopub.status.busy": "2021-08-18T17:10:46.372554Z",
     "iopub.status.idle": "2021-08-18T17:10:46.383616Z",
     "shell.execute_reply": "2021-08-18T17:10:46.384087Z",
     "shell.execute_reply.started": "2021-08-16T21:11:16.191169Z"
    },
    "papermill": {
     "duration": 0.020144,
     "end_time": "2021-08-18T17:10:46.384275",
     "exception": false,
     "start_time": "2021-08-18T17:10:46.364131",
     "status": "completed"
    },
    "tags": []
   },
   "outputs": [],
   "source": [
    "preds = np.mean(np.column_stack(final_predictions), axis=1)"
   ]
  },
  {
   "cell_type": "code",
   "execution_count": 6,
   "id": "6f4a777f",
   "metadata": {
    "execution": {
     "iopub.execute_input": "2021-08-18T17:10:46.399267Z",
     "iopub.status.busy": "2021-08-18T17:10:46.398681Z",
     "iopub.status.idle": "2021-08-18T17:10:46.755958Z",
     "shell.execute_reply": "2021-08-18T17:10:46.755427Z",
     "shell.execute_reply.started": "2021-08-16T21:11:44.425202Z"
    },
    "papermill": {
     "duration": 0.365745,
     "end_time": "2021-08-18T17:10:46.756149",
     "exception": false,
     "start_time": "2021-08-18T17:10:46.390404",
     "status": "completed"
    },
    "tags": []
   },
   "outputs": [],
   "source": [
    "sample_submission.target = preds\n",
    "sample_submission.to_csv(\"submission.csv\", index=False)"
   ]
  }
 ],
 "metadata": {
  "kernelspec": {
   "display_name": "Python 3",
   "language": "python",
   "name": "python3"
  },
  "language_info": {
   "codemirror_mode": {
    "name": "ipython",
    "version": 3
   },
   "file_extension": ".py",
   "mimetype": "text/x-python",
   "name": "python",
   "nbconvert_exporter": "python",
   "pygments_lexer": "ipython3",
   "version": "3.8.5"
  },
  "papermill": {
   "default_parameters": {},
   "duration": 286.842507,
   "end_time": "2021-08-18T17:10:48.409314",
   "environment_variables": {},
   "exception": null,
   "input_path": "__notebook__.ipynb",
   "output_path": "__notebook__.ipynb",
   "parameters": {},
   "start_time": "2021-08-18T17:06:01.566807",
   "version": "2.3.3"
  }
 },
 "nbformat": 4,
 "nbformat_minor": 5
}
